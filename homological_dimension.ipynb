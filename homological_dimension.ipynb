{
 "cells": [
  {
   "cell_type": "markdown",
   "metadata": {},
   "source": [
    "In [this paper](https://arxiv.org/pdf/2306.04723), Tulchinskii et al. explore using persistent homology in detection of AI-generated texts.\n",
    "\n",
    "Specifically, they use a feature called the \"persistent homology dimension\" of the text.\n",
    "I hope to reproduce their work in this notebook, and apply it to my dataset."
   ]
  },
  {
   "cell_type": "code",
   "execution_count": 9,
   "metadata": {},
   "outputs": [
    {
     "name": "stdout",
     "output_type": "stream",
     "text": [
      "Warning: Looks like you're using an outdated `kagglehub` version (installed: 0.3.8), please consider upgrading to the latest version (0.3.12).\n",
      "Path to dataset files: /Users/kaveh/.cache/kagglehub/datasets/thedrcat/daigt-v2-train-dataset/versions/2\n"
     ]
    }
   ],
   "source": [
    "import pandas as pd\n",
    "import numpy as np\n",
    "import matplotlib.pyplot as plt\n",
    "import os\n",
    "from tqdm import tqdm\n",
    "tqdm.pandas()\n",
    "\n",
    "import kagglehub\n",
    "# Download latest version\n",
    "path = kagglehub.dataset_download(\"thedrcat/daigt-v2-train-dataset\")\n",
    "print(\"Path to dataset files:\", path)\n",
    "filename = 'train_v2_drcat_02.csv'\n",
    "\n",
    "import spacy\n",
    "from spacy.language import Language\n",
    "from spacy.lang.en import English\n",
    "from spacy.tokens import Doc, DocBin\n",
    "\n",
    "import configparser\n",
    "\n",
    "import ripser\n",
    "import persim\n",
    "\n",
    "pipeline_filepath = 'pipeline.spacy'\n",
    "essays_filepath = 'parsed_essays.spacy'"
   ]
  },
  {
   "cell_type": "code",
   "execution_count": null,
   "metadata": {},
   "outputs": [
    {
     "data": {
      "text/html": [
       "<div>\n",
       "<style scoped>\n",
       "    .dataframe tbody tr th:only-of-type {\n",
       "        vertical-align: middle;\n",
       "    }\n",
       "\n",
       "    .dataframe tbody tr th {\n",
       "        vertical-align: top;\n",
       "    }\n",
       "\n",
       "    .dataframe thead th {\n",
       "        text-align: right;\n",
       "    }\n",
       "</style>\n",
       "<table border=\"1\" class=\"dataframe\">\n",
       "  <thead>\n",
       "    <tr style=\"text-align: right;\">\n",
       "      <th></th>\n",
       "      <th>text</th>\n",
       "      <th>label</th>\n",
       "      <th>prompt_name</th>\n",
       "      <th>source</th>\n",
       "      <th>RDizzl3_seven</th>\n",
       "      <th>text_spacy</th>\n",
       "    </tr>\n",
       "  </thead>\n",
       "  <tbody>\n",
       "    <tr>\n",
       "      <th>0</th>\n",
       "      <td>Phones\\n\\nModern humans today are always on th...</td>\n",
       "      <td>0</td>\n",
       "      <td>Phones and driving</td>\n",
       "      <td>persuade_corpus</td>\n",
       "      <td>False</td>\n",
       "      <td>(Phones, Modern, humans, today, phone, phone, ...</td>\n",
       "    </tr>\n",
       "    <tr>\n",
       "      <th>1</th>\n",
       "      <td>This essay will explain if drivers should or s...</td>\n",
       "      <td>0</td>\n",
       "      <td>Phones and driving</td>\n",
       "      <td>persuade_corpus</td>\n",
       "      <td>False</td>\n",
       "      <td>(essay, explain, drivers, able, use, electroni...</td>\n",
       "    </tr>\n",
       "    <tr>\n",
       "      <th>2</th>\n",
       "      <td>Driving while the use of cellular devices\\n\\nT...</td>\n",
       "      <td>0</td>\n",
       "      <td>Phones and driving</td>\n",
       "      <td>persuade_corpus</td>\n",
       "      <td>False</td>\n",
       "      <td>(Driving, use, cellular, devices, Today, socie...</td>\n",
       "    </tr>\n",
       "    <tr>\n",
       "      <th>3</th>\n",
       "      <td>Phones &amp; Driving\\n\\nDrivers should not be able...</td>\n",
       "      <td>0</td>\n",
       "      <td>Phones and driving</td>\n",
       "      <td>persuade_corpus</td>\n",
       "      <td>False</td>\n",
       "      <td>(Phones, Driving, Drivers, able, use, phones, ...</td>\n",
       "    </tr>\n",
       "    <tr>\n",
       "      <th>4</th>\n",
       "      <td>Cell Phone Operation While Driving\\n\\nThe abil...</td>\n",
       "      <td>0</td>\n",
       "      <td>Phones and driving</td>\n",
       "      <td>persuade_corpus</td>\n",
       "      <td>False</td>\n",
       "      <td>(Cell, Phone, Operation, Driving, ability, sta...</td>\n",
       "    </tr>\n",
       "  </tbody>\n",
       "</table>\n",
       "</div>"
      ],
      "text/plain": [
       "                                                text  label  \\\n",
       "0  Phones\\n\\nModern humans today are always on th...      0   \n",
       "1  This essay will explain if drivers should or s...      0   \n",
       "2  Driving while the use of cellular devices\\n\\nT...      0   \n",
       "3  Phones & Driving\\n\\nDrivers should not be able...      0   \n",
       "4  Cell Phone Operation While Driving\\n\\nThe abil...      0   \n",
       "\n",
       "          prompt_name           source  RDizzl3_seven  \\\n",
       "0  Phones and driving  persuade_corpus          False   \n",
       "1  Phones and driving  persuade_corpus          False   \n",
       "2  Phones and driving  persuade_corpus          False   \n",
       "3  Phones and driving  persuade_corpus          False   \n",
       "4  Phones and driving  persuade_corpus          False   \n",
       "\n",
       "                                          text_spacy  \n",
       "0  (Phones, Modern, humans, today, phone, phone, ...  \n",
       "1  (essay, explain, drivers, able, use, electroni...  \n",
       "2  (Driving, use, cellular, devices, Today, socie...  \n",
       "3  (Phones, Driving, Drivers, able, use, phones, ...  \n",
       "4  (Cell, Phone, Operation, Driving, ability, sta...  "
      ]
     },
     "execution_count": 15,
     "metadata": {},
     "output_type": "execute_result"
    }
   ],
   "source": [
    "#Reconstruct essay dataset from disk\n",
    "doc_bin = DocBin().from_disk('parsed_essays.spacy')\n",
    "data_filepath = os.path.join(path, filename)\n",
    "essays = pd.read_csv(data_filepath)\n",
    "\n",
    "nlp = spacy.load('en_core_web_md', exclude=['ner', 'parser']) # would like to use the saved pipeline, ideally. but this seems to work\n",
    "essays['text_spacy'] = pd.Series(list(doc_bin.get_docs(nlp.vocab)))\n",
    "\n",
    "essays.head()"
   ]
  },
  {
   "cell_type": "code",
   "execution_count": null,
   "metadata": {},
   "outputs": [],
   "source": []
  }
 ],
 "metadata": {
  "kernelspec": {
   "display_name": "nlp",
   "language": "python",
   "name": "python3"
  },
  "language_info": {
   "codemirror_mode": {
    "name": "ipython",
    "version": 3
   },
   "file_extension": ".py",
   "mimetype": "text/x-python",
   "name": "python",
   "nbconvert_exporter": "python",
   "pygments_lexer": "ipython3",
   "version": "3.12.8"
  }
 },
 "nbformat": 4,
 "nbformat_minor": 2
}
